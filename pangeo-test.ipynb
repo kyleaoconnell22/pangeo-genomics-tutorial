{
 "cells": [
  {
   "cell_type": "markdown",
   "id": "9b593f0e",
   "metadata": {},
   "source": [
    "This notebook is a test notebook from the NIGGMS ME-INBRE project that will run an RNAseq workflow."
   ]
  },
  {
   "cell_type": "code",
   "execution_count": 14,
   "id": "982e79aa",
   "metadata": {},
   "outputs": [],
   "source": [
    "# Import necessary packages\n",
    "import subprocess as sp\n",
    "import os"
   ]
  },
  {
   "cell_type": "code",
   "execution_count": 6,
   "id": "1ab9f3f4",
   "metadata": {},
   "outputs": [
    {
     "name": "stderr",
     "output_type": "stream",
     "text": [
      "  % Total    % Received % Xferd  Average Speed   Time    Time     Time  Current\n",
      "                                 Dload  Upload   Total   Spent    Left  Speed\n",
      "100 7175k  100 7175k    0     0  6619k      0  0:00:01  0:00:01 --:--:-- 6625k\n",
      "  % Total    % Received % Xferd  Average Speed   Time    Time     Time  Current\n",
      "                                 Dload  Upload   Total   Spent    Left  Speed\n",
      "100 7175k  100 7175k    0     0  7841k      0 --:--:-- --:--:-- --:--:-- 7833k\n",
      "  % Total    % Received % Xferd  Average Speed   Time    Time     Time  Current\n",
      "                                 Dload  Upload   Total   Spent    Left  Speed\n",
      "100 7178k  100 7178k    0     0  9052k      0 --:--:-- --:--:-- --:--:-- 9052k\n",
      "  % Total    % Received % Xferd  Average Speed   Time    Time     Time  Current\n",
      "                                 Dload  Upload   Total   Spent    Left  Speed\n",
      "100 7178k  100 7178k    0     0  9860k      0 --:--:-- --:--:-- --:--:-- 9846k\n",
      "  % Total    % Received % Xferd  Average Speed   Time    Time     Time  Current\n",
      "                                 Dload  Upload   Total   Spent    Left  Speed\n",
      "100 4982k  100 4982k    0     0  8401k      0 --:--:-- --:--:-- --:--:-- 8401k\n",
      "  % Total    % Received % Xferd  Average Speed   Time    Time     Time  Current\n",
      "                                 Dload  Upload   Total   Spent    Left  Speed\n",
      "100    12  100    12    0     0     95      0 --:--:-- --:--:-- --:--:--    95\n",
      "  % Total    % Received % Xferd  Average Speed   Time    Time     Time  Current\n",
      "                                 Dload  Upload   Total   Spent    Left  Speed\n",
      "100   105  100   105    0     0    833      0 --:--:-- --:--:-- --:--:--   833\n",
      "  % Total    % Received % Xferd  Average Speed   Time    Time     Time  Current\n",
      "                                 Dload  Upload   Total   Spent    Left  Speed\n",
      "100 4912k  100 4912k    0     0  9593k      0 --:--:-- --:--:-- --:--:-- 9593k\n",
      "  % Total    % Received % Xferd  Average Speed   Time    Time     Time  Current\n",
      "                                 Dload  Upload   Total   Spent    Left  Speed\n",
      "100    31  100    31    0     0    234      0 --:--:-- --:--:-- --:--:--   234\n",
      "  % Total    % Received % Xferd  Average Speed   Time    Time     Time  Current\n",
      "                                 Dload  Upload   Total   Spent    Left  Speed\n",
      "100 1227k  100 1227k    0     0  4120k      0 --:--:-- --:--:-- --:--:-- 4120k\n",
      "  % Total    % Received % Xferd  Average Speed   Time    Time     Time  Current\n",
      "                                 Dload  Upload   Total   Spent    Left  Speed\n",
      "100 2456k  100 2456k    0     0  6997k      0 --:--:-- --:--:-- --:--:-- 6977k\n",
      "  % Total    % Received % Xferd  Average Speed   Time    Time     Time  Current\n",
      "                                 Dload  Upload   Total   Spent    Left  Speed\n",
      "100    95  100    95    0     0    785      0 --:--:-- --:--:-- --:--:--   785\n"
     ]
    }
   ],
   "source": [
    "# Test out the following commands. First, set up your directory structure and download files with this command. \n",
    "# You can peek at what it is doing by typing cat scripts/setup.sh.\n",
    "# Note that since this is Python script we have to wrap our bash commands in supprocess calls\n",
    "shell_call = \"sh scripts/setup.sh\"\n",
    "proc_shell = sp.call(shell_call,shell=True)\n"
   ]
  },
  {
   "cell_type": "code",
   "execution_count": 27,
   "id": "767dc95d",
   "metadata": {},
   "outputs": [
    {
     "name": "stderr",
     "output_type": "stream",
     "text": [
      "TrimmomaticPE: Started with arguments:\n",
      " -threads 2 data/raw_fastq/SRR13349122_1.fastq data/raw_fastq/SRR13349122_2.fastq data/trimmed/SRR13349122_trimmed_1.fastq data/trimmed/SRR13349122_trimmed_2.fastq data/trimmed/SRR13349122_trimmed_2_unpaired.fastq data/trimmed/SRR13349122_trimmed_1_unpaired.fastq ILLUMINACLIP:TruSeq3-PE.fa:2:30:10:2:keepBothReads LEADING:3 TRAILING:3 MINLEN:36\n",
      "Using PrefixPair: 'TACACTCTTTCCCTACACGACGCTCTTCCGATCT' and 'GTGACTGGAGTTCAGACGTGTGCTCTTCCGATCT'\n",
      "ILLUMINACLIP: Using 1 prefix pairs, 0 forward/reverse sequences, 0 forward only sequences, 0 reverse only sequences\n",
      "Quality encoding detected as phred33\n",
      "Input Read Pairs: 10827590 Both Surviving: 10810267 (99.84%) Forward Only Surviving: 17297 (0.16%) Reverse Only Surviving: 0 (0.00%) Dropped: 26 (0.00%)\n",
      "TrimmomaticPE: Completed successfully\n",
      "TrimmomaticPE: Started with arguments:\n",
      " -threads 2 data/raw_fastq/SRR13349123_1.fastq data/raw_fastq/SRR13349123_2.fastq data/trimmed/SRR13349123_trimmed_1.fastq data/trimmed/SRR13349123_trimmed_2.fastq data/trimmed/SRR13349123_trimmed_2_unpaired.fastq data/trimmed/SRR13349123_trimmed_1_unpaired.fastq ILLUMINACLIP:TruSeq3-PE.fa:2:30:10:2:keepBothReads LEADING:3 TRAILING:3 MINLEN:36\n",
      "Using PrefixPair: 'TACACTCTTTCCCTACACGACGCTCTTCCGATCT' and 'GTGACTGGAGTTCAGACGTGTGCTCTTCCGATCT'\n",
      "ILLUMINACLIP: Using 1 prefix pairs, 0 forward/reverse sequences, 0 forward only sequences, 0 reverse only sequences\n",
      "Quality encoding detected as phred33\n",
      "Input Read Pairs: 50000 Both Surviving: 49735 (99.47%) Forward Only Surviving: 264 (0.53%) Reverse Only Surviving: 0 (0.00%) Dropped: 1 (0.00%)\n",
      "TrimmomaticPE: Completed successfully\n"
     ]
    }
   ],
   "source": [
    "# Everything should now be downloaded\n",
    "# Let's trim our raw reads\n",
    "# First make a list of all files we want to trim (here we only have two)\n",
    "files = [i.strip() for i in open(\"scripts/samples\")]\n",
    "# Then create a loop for each file\n",
    "# use 'f' string to insert the {f} variable for each sample\n",
    "for f in files:\n",
    "    trim_call = f\"trimmomatic PE -threads 2 data/raw_fastq/{f}_1.fastq data/raw_fastq/{f}_2.fastq data/trimmed/{f}_trimmed_1.fastq data/trimmed/{f}_trimmed_2.fastq data/trimmed/{f}_trimmed_2_unpaired.fastq  data/trimmed/{f}_trimmed_1_unpaired.fastq ILLUMINACLIP:TruSeq3-PE.fa:2:30:10:2:keepBothReads LEADING:3 TRAILING:3 MINLEN:36\"\n",
    "    proc_shell = sp.call(trim_call,shell=True)\n",
    "    \n"
   ]
  },
  {
   "cell_type": "code",
   "execution_count": 28,
   "id": "c84a2166",
   "metadata": {
    "scrolled": true
   },
   "outputs": [
    {
     "name": "stderr",
     "output_type": "stream",
     "text": [
      "[M::bwa_idx_load_from_disk] read 0 ALT contigs\n",
      "[W::bseq_read] the 2nd file has fewer sequences.\n",
      "[M::process] read 34594 sequences (1754537 bp)...\n",
      "[W::bseq_read] the 2nd file has fewer sequences.\n",
      "[M::mem_pestat] # candidate unique pairs for (FF, FR, RF, RR): (7188, 1, 1, 7203)\n",
      "[M::mem_pestat] analyzing insert size distribution for orientation FF...\n",
      "[M::mem_pestat] (25, 50, 75) percentile: (503, 1139, 2019)\n",
      "[M::mem_pestat] low and high boundaries for computing mean and std.dev: (1, 5051)\n",
      "[M::mem_pestat] mean and std.dev: (1361.19, 1035.94)\n",
      "[M::mem_pestat] low and high boundaries for proper pairs: (1, 6567)\n",
      "[M::mem_pestat] skip orientation FR as there are not enough pairs\n",
      "[M::mem_pestat] skip orientation RF as there are not enough pairs\n",
      "[M::mem_pestat] analyzing insert size distribution for orientation RR...\n",
      "[M::mem_pestat] (25, 50, 75) percentile: (494, 1124, 2016)\n",
      "[M::mem_pestat] low and high boundaries for computing mean and std.dev: (1, 5060)\n",
      "[M::mem_pestat] mean and std.dev: (1361.46, 1049.66)\n",
      "[M::mem_pestat] low and high boundaries for proper pairs: (1, 6582)\n",
      "[mem_sam_pe] paired reads have different names: \"SRR13349122.1\", \"SRR13349122.3\"\n",
      "\n",
      "[M::bwa_idx_load_from_disk] read 0 ALT contigs\n",
      "[W::bseq_read] the 2nd file has fewer sequences.\n",
      "[M::process] read 528 sequences (26921 bp)...\n",
      "[W::bseq_read] the 2nd file has fewer sequences.\n",
      "[M::mem_pestat] # candidate unique pairs for (FF, FR, RF, RR): (105, 0, 0, 107)\n",
      "[M::mem_pestat] analyzing insert size distribution for orientation FF...\n",
      "[M::mem_pestat] (25, 50, 75) percentile: (647, 1570, 2377)\n",
      "[M::mem_pestat] low and high boundaries for computing mean and std.dev: (1, 5837)\n",
      "[M::mem_pestat] mean and std.dev: (1566.45, 1060.21)\n",
      "[M::mem_pestat] low and high boundaries for proper pairs: (1, 7567)\n",
      "[M::mem_pestat] skip orientation FR as there are not enough pairs\n",
      "[M::mem_pestat] skip orientation RF as there are not enough pairs\n",
      "[M::mem_pestat] analyzing insert size distribution for orientation RR...\n",
      "[M::mem_pestat] (25, 50, 75) percentile: (632, 1278, 1955)\n",
      "[M::mem_pestat] low and high boundaries for computing mean and std.dev: (1, 4601)\n",
      "[M::mem_pestat] mean and std.dev: (1353.12, 929.09)\n",
      "[M::mem_pestat] low and high boundaries for proper pairs: (1, 5924)\n",
      "[mem_sam_pe] paired reads have different names: \"SRR13349123.9733267\", \"SRR13349123.909503\"\n",
      "\n"
     ]
    }
   ],
   "source": [
    "# Let's align reads to the reference genome\n",
    "# Asign Ref variable\n",
    "REF='data/reference/M_chelonae_NZ_CP007220.fasta'\n",
    "for f in files:\n",
    "    bwa_call = f\"bwa mem {REF} data/trimmed/{f}_trimmed_1.fastq  data/trimmed/{f}_trimmed_2.fastq > data/aligned/{f}.sam\"\n",
    "    proc_shell = sp.call(bwa_call,shell=True)"
   ]
  },
  {
   "cell_type": "code",
   "execution_count": 22,
   "id": "2339eea5",
   "metadata": {},
   "outputs": [
    {
     "ename": "FileNotFoundError",
     "evalue": "[Errno 2] No such file or directory: 'SRR13349122.sam'",
     "output_type": "error",
     "traceback": [
      "\u001b[0;31m---------------------------------------------------------------------------\u001b[0m",
      "\u001b[0;31mFileNotFoundError\u001b[0m                         Traceback (most recent call last)",
      "\u001b[0;32m/var/folders/fl/0dbbm5bd2zlgtcn1dqc34fv40000gn/T/ipykernel_9634/806014334.py\u001b[0m in \u001b[0;36m<module>\u001b[0;34m\u001b[0m\n\u001b[1;32m      6\u001b[0m \u001b[0;32mfor\u001b[0m \u001b[0mf\u001b[0m \u001b[0;32min\u001b[0m \u001b[0mos\u001b[0m\u001b[0;34m.\u001b[0m\u001b[0mlistdir\u001b[0m\u001b[0;34m(\u001b[0m\u001b[0;34m'./data/aligned'\u001b[0m\u001b[0;34m)\u001b[0m\u001b[0;34m:\u001b[0m\u001b[0;34m\u001b[0m\u001b[0;34m\u001b[0m\u001b[0m\n\u001b[1;32m      7\u001b[0m         \u001b[0;32mif\u001b[0m \u001b[0mf\u001b[0m\u001b[0;34m.\u001b[0m\u001b[0mendswith\u001b[0m\u001b[0;34m(\u001b[0m\u001b[0;34m'.sam'\u001b[0m\u001b[0;34m)\u001b[0m\u001b[0;34m:\u001b[0m\u001b[0;34m\u001b[0m\u001b[0;34m\u001b[0m\u001b[0m\n\u001b[0;32m----> 8\u001b[0;31m             \u001b[0mos\u001b[0m\u001b[0;34m.\u001b[0m\u001b[0mremove\u001b[0m\u001b[0;34m(\u001b[0m\u001b[0mf\u001b[0m\u001b[0;34m)\u001b[0m\u001b[0;34m\u001b[0m\u001b[0;34m\u001b[0m\u001b[0m\n\u001b[0m",
      "\u001b[0;31mFileNotFoundError\u001b[0m: [Errno 2] No such file or directory: 'SRR13349122.sam'"
     ]
    }
   ],
   "source": [
    "# Convert our sam file to binary form (bam)\n",
    "for f in files:\n",
    "    samtools_call = f\"samtools view -S -b data/aligned/{f}.sam > data/aligned/{f}.bam\"\n",
    "    proc_shell = sp.call(samtools_call,shell=True)\n",
    "# Remove the sam files\n",
    "for f in os.listdir('./data/aligned'):\n",
    "        if f.endswith('.sam'):\n",
    "            os.remove(f)\n"
   ]
  },
  {
   "cell_type": "code",
   "execution_count": 19,
   "id": "8aec526e",
   "metadata": {},
   "outputs": [
    {
     "name": "stdout",
     "output_type": "stream",
     "text": [
      "['binder', 'pangeo-test.ipynb', 'README.md', 'scripts', 'TruSeq3-PE.fa', '.ipynb_checkpoints', 'data', 'SRR13349122.bam', 'SRR13349123.bam']\n"
     ]
    }
   ],
   "source": []
  }
 ],
 "metadata": {
  "kernelspec": {
   "display_name": "Python 3 (ipykernel)",
   "language": "python",
   "name": "python3"
  },
  "language_info": {
   "codemirror_mode": {
    "name": "ipython",
    "version": 3
   },
   "file_extension": ".py",
   "mimetype": "text/x-python",
   "name": "python",
   "nbconvert_exporter": "python",
   "pygments_lexer": "ipython3",
   "version": "3.9.5"
  }
 },
 "nbformat": 4,
 "nbformat_minor": 5
}
